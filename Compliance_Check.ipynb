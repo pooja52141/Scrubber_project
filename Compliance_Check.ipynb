{
 "cells": [
  {
   "cell_type": "code",
   "execution_count": null,
   "id": "e1a6c9cb",
   "metadata": {
    "id": "e1a6c9cb"
   },
   "outputs": [],
   "source": [
    "from csv import writer\n",
    "from csv import reader\n",
    "default_text1 = 'phcompliant'\n",
    "default_text2 = 'pahcompliant'\n",
    "default_text3 = 'turbcompliant'\n",
    "default_text4 = 'gascompliant'\n",
    "default_text5= '1'\n",
    "\n",
    "with open(r\"output_2.csv\", 'r') as read_obj, \\\n",
    "        open(\"C:\\compliance\\output_4.csv\", 'w', newline='') as write_obj:\n",
    "    csv_reader = reader(read_obj)\n",
    "    csv_writer = writer(write_obj)\n",
    "    c=0\n",
    "    for row in csv_reader:\n",
    "        if c==0:\n",
    "            row.append(default_text1)\n",
    "            row.append(default_text2)\n",
    "            row.append(default_text3)\n",
    "            row.append(default_text4)\n",
    "        else:\n",
    "            row.append(default_text5)\n",
    "            row.append(default_text5)\n",
    "            row.append(default_text5)\n",
    "            row.append(default_text5)\n",
    "        c=c+1    \n",
    "        csv_writer.writerow(row)\n"
   ]
  },
  {
   "cell_type": "code",
   "execution_count": null,
   "id": "3297add5",
   "metadata": {
    "colab": {
     "base_uri": "https://localhost:8080/"
    },
    "id": "3297add5",
    "outputId": "9009a59a-661a-462f-d0f3-9e08a5bbffb6"
   },
   "outputs": [],
   "source": [
    "import pandas as pd\n",
    "from pandas import *\n",
    "import math\n",
    "cs = read_csv(r\"C:\\compliance\\output_4.csv\")\n",
    "ph = cs['dischargePh'].tolist()\n",
    "pah = cs['dischargePah'].tolist()\n",
    "tur = cs['turbidityDifference'].tolist()\n",
    "gratio = cs['gasRatio'].tolist()\n",
    "eca = cs['0'].tolist()\n",
    "\n",
    "csf = pd.read_csv(\"C:\\compliance\\output_4.csv\")\n",
    "#ph\n",
    "for i in range (len(ph)):\n",
    "    print(i)\n",
    "    if math.isnan(ph[i]):\n",
    "        csf.loc[i,'phcompliant']='NAN'\n",
    "        csf.to_csv(\"C:\\compliance\\output_4.csv\",index=False)\n",
    "    elif(ph[i]<3.03):\n",
    "        csf.loc[i,'phcompliant']='0'\n",
    "        csf.to_csv(\"C:\\compliance\\output_4.csv\",index=False)\n",
    "#gasratio\n",
    "    if math.isnan(gratio[i]):\n",
    "        csf.loc[i,'gascompliant']='NAN'\n",
    "        \n",
    "    else:\n",
    "        if eca[i]==0:\n",
    "            if gratio[i]>21.7:\n",
    "                csf.loc[i,'gascompliant']='0'\n",
    "                csf.to_csv(\"C:\\compliance\\output_4.csv\",index=False)\n",
    "        else:\n",
    "            if gratio[i]>4.3:\n",
    "                csf.loc[i,'gascompliant']='0'\n",
    "                csf.to_csv(\"C:\\compliance\\output_4.csv\",index=False)            \n",
    "#pah\n",
    "for i in range(len(pah)-480):\n",
    "    c=0\n",
    "    ct=0\n",
    "    print (i,'*')\n",
    "    for j in range(480):\n",
    "        if math.isnan(pah[i+j]):\n",
    "            continue\n",
    "        elif pah[i+j]>(51.9*2):\n",
    "            c=c+1\n",
    "    if math.isnan(pah[i]):\n",
    "        csf.loc[i,'pahcompliant']='NAN'\n",
    "        csf.to_csv(\"C:\\compliance\\output_4.csv\",index=False)\n",
    "    elif c>(15*60/90):\n",
    "        csf.loc[i,'pahcompliant']='0'\n",
    "        csf.to_csv(\"C:\\compliance\\output_4.csv\",index=False)\n",
    "\n",
    "#turbidity\n",
    "\n",
    "    for j in range(480):\n",
    "        if math.isnan(tur[i+j]):\n",
    "            continue\n",
    "        elif tur[i+j]>1.5*25:\n",
    "            ct=ct+1\n",
    "    if math.isnan(tur[i]):\n",
    "            csf.loc[i,'turbcompliant']='NAN'\n",
    "            csf.to_csv(\"C:\\compliance\\output_4.csv\",index=False)\n",
    "    elif (ct*90)>15*60:  #non compliant\n",
    "        csf.loc[i,'turbcompliant']='0'\n",
    "        csf.to_csv(\"C:\\compliance\\output_4.csv\",index=False)\n"
   ]
  },
  {
   "cell_type": "code",
   "execution_count": null,
   "id": "4305dbc2",
   "metadata": {
    "id": "4305dbc2"
   },
   "outputs": [],
   "source": []
  }
 ],
 "metadata": {
  "colab": {
   "collapsed_sections": [],
   "name": "compliance_final.ipynb",
   "provenance": []
  },
  "kernelspec": {
   "display_name": "Python 3 (ipykernel)",
   "language": "python",
   "name": "python3"
  },
  "language_info": {
   "codemirror_mode": {
    "name": "ipython",
    "version": 3
   },
   "file_extension": ".py",
   "mimetype": "text/x-python",
   "name": "python",
   "nbconvert_exporter": "python",
   "pygments_lexer": "ipython3",
   "version": "3.9.12"
  }
 },
 "nbformat": 4,
 "nbformat_minor": 5
}
